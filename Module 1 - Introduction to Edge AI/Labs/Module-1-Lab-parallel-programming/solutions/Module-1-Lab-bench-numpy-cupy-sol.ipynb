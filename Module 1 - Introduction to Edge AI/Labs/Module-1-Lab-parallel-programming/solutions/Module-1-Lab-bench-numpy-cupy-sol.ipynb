{
  "nbformat": 4,
  "nbformat_minor": 0,
  "metadata": {
    "colab": {
      "name": "Solution-Module-1-Lab-bench-numpy-cupy.ipynb",
      "provenance": [],
      "collapsed_sections": []
    },
    "kernelspec": {
      "name": "python3",
      "display_name": "Python 3"
    },
    "language_info": {
      "name": "python"
    },
    "accelerator": "GPU"
  },
  "cells": [
    {
      "cell_type": "markdown",
      "metadata": {
        "id": "_yg2_xxJPvyH"
      },
      "source": [
        "# **Exercise**\n",
        "You can also find other operations from [the comparison table](https://docs.cupy.dev/en/stable/reference/comparison.html).\n",
        "\n",
        "Use the following operations do NumPy and CuPy implementation and then benchmark the times. \n",
        "- numpy.absolute | cupy.absolute\n",
        "- numpy.median | cupy.median\n",
        "- numpy.resize | cupy.resize\n",
        "- numpy.shape | cupy.shape\n",
        "- numpy.ndarray.fill() | cupy.ndarray.fill()"
      ]
    },
    {
      "cell_type": "code",
      "metadata": {
        "id": "IDNHaJhs0TYl"
      },
      "source": [
        "# import libraries\n",
        "import numpy as np\n",
        "import cupy as cp"
      ],
      "execution_count": null,
      "outputs": []
    },
    {
      "cell_type": "code",
      "metadata": {
        "id": "UIrzm69hzdLc"
      },
      "source": [
        "#absolute\n",
        "x = np.arange(-200,300)\n",
        "y = cp.arange(-200,300)"
      ],
      "execution_count": null,
      "outputs": []
    },
    {
      "cell_type": "code",
      "metadata": {
        "id": "qQyXxFfA0NZq"
      },
      "source": [
        "%%time\n",
        "np.absolute(x)"
      ],
      "execution_count": null,
      "outputs": []
    },
    {
      "cell_type": "code",
      "metadata": {
        "id": "ecKGjxbt1V1m"
      },
      "source": [
        "%%time\n",
        "cp.absolute(y)"
      ],
      "execution_count": null,
      "outputs": []
    },
    {
      "cell_type": "code",
      "metadata": {
        "id": "XskqkEkrzj_l"
      },
      "source": [
        "#median\n",
        "%%time\n",
        "np.median(x)"
      ],
      "execution_count": null,
      "outputs": []
    },
    {
      "cell_type": "code",
      "metadata": {
        "id": "uVYxi-Zh2-gp"
      },
      "source": [
        "%%time\n",
        "cp.median(y)"
      ],
      "execution_count": null,
      "outputs": []
    },
    {
      "cell_type": "code",
      "metadata": {
        "id": "8SuF7XJyzkgZ"
      },
      "source": [
        "#resize\n",
        "%%time\n",
        "x1 = np.resize(x,(2,100))"
      ],
      "execution_count": null,
      "outputs": []
    },
    {
      "cell_type": "code",
      "metadata": {
        "id": "O83d0yZ23er_"
      },
      "source": [
        "%%time\n",
        "y1 = cp.resize(y,(2,100))"
      ],
      "execution_count": null,
      "outputs": []
    },
    {
      "cell_type": "code",
      "metadata": {
        "id": "ztPzIC_Yzk1j"
      },
      "source": [
        "#shape\n",
        "print(x1.shape)\n",
        "print(y1.shape)"
      ],
      "execution_count": null,
      "outputs": []
    },
    {
      "cell_type": "code",
      "metadata": {
        "id": "EbsP_-J7zlMA"
      },
      "source": [
        "#fill()\n",
        "%%time\n",
        "x1.fill(18)"
      ],
      "execution_count": null,
      "outputs": []
    },
    {
      "cell_type": "code",
      "metadata": {
        "id": "0Wf6LHq-5Hpd"
      },
      "source": [
        "%%time\n",
        "y1.fill(27)"
      ],
      "execution_count": null,
      "outputs": []
    },
    {
      "cell_type": "code",
      "metadata": {
        "id": "RIifmDzs5L_h"
      },
      "source": [
        "print(x1)\n",
        "print(y1)\n",
        "print(x1.shape)\n",
        "print(y1.shape)"
      ],
      "execution_count": null,
      "outputs": []
    },
    {
      "cell_type": "code",
      "metadata": {
        "id": "3MRmkR215Pqr"
      },
      "source": [
        ""
      ],
      "execution_count": null,
      "outputs": []
    }
  ]
}