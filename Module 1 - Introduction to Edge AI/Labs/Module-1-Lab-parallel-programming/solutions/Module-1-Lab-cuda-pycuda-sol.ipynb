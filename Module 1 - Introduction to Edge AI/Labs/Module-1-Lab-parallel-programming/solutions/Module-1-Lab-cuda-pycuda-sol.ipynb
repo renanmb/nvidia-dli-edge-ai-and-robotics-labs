{
  "nbformat": 4,
  "nbformat_minor": 0,
  "metadata": {
    "colab": {
      "name": "Solution-Module-1-Lab-cuda-pycuda.ipynb",
      "provenance": [],
      "collapsed_sections": []
    },
    "kernelspec": {
      "name": "python3",
      "display_name": "Python 3"
    },
    "language_info": {
      "name": "python"
    },
    "accelerator": "GPU"
  },
  "cells": [
    {
      "cell_type": "markdown",
      "metadata": {
        "id": "AjdE0VJJPNna"
      },
      "source": [
        "# **Exercise**\n",
        "\n",
        "Perform element-wise squaring of numbers in a matrix using the gpuarray class."
      ]
    },
    {
      "cell_type": "markdown",
      "metadata": {
        "id": "BVjFq1VhQDWj"
      },
      "source": [
        "PyCUDA provides a gpuarray class, similar to numpy, that stores its data and performs its computations on the GPU device. The shape and datatype of the arrays work exactly as in numpy.\n",
        "\n",
        "The gpuarray class provides many arithmetic methods for computations. It removes the need to specify the kernel code in C or C++ using SourceModule. So, the PyCUDA code will contain only a Python code. The code of squaring every element of the matrix using the gpuarray class is shown as follows: "
      ]
    },
    {
      "cell_type": "code",
      "metadata": {
        "id": "9EhWMz7nP-jq"
      },
      "source": [
        "# import gpuarray class\n",
        "!pip install pycuda \n",
        "import pycuda\n",
        "import pycuda.driver as cuda\n",
        "cuda.init()\n",
        "\n",
        "import pycuda.autoinit\n",
        "from pycuda.compiler import SourceModule\n",
        "import pycuda.gpuarray as gpuarray\n",
        "\n",
        "\n",
        "start = drv.Event()\n",
        "end=drv.Event()\n",
        "start.record()\n",
        "start.synchronize()"
      ],
      "execution_count": null,
      "outputs": []
    },
    {
      "cell_type": "code",
      "metadata": {
        "id": "eAtTJtoz_cDF"
      },
      "source": [
        "#initialize the matrix with random integers\n",
        "h_b = numpy.random.randint(1,5,(5, 5))\n",
        "\n",
        "#upload the matrix to the device memory using to_gpu method\n",
        "#the matrix is converted to a single precision number\n",
        "d_b = gpuarray.to_gpu(h_b.astype(numpy.float32))\n",
        "h_result = (d_b**2).get()\n",
        "end.record()\n",
        "end.synchronize()"
      ],
      "execution_count": null,
      "outputs": []
    },
    {
      "cell_type": "markdown",
      "metadata": {
        "id": "tSMHKA1QRa-I"
      },
      "source": [
        "All the operations on this uploaded matrix will be performed on the device. The square operation is performed in a similar way as we do in Python code but, as the variable is stored on the device using gpuarray, this operation will also be performed on the device. The result is downloaded back to the host by using the get method. This result along with the time needed to perform element-wise squaring using gpuarray is displayed on the console as follows:"
      ]
    },
    {
      "cell_type": "code",
      "metadata": {
        "id": "dRcKcWnRP9zN"
      },
      "source": [
        "print(\"original array:\")\n",
        "print(h_b)\n",
        "print(\"doubled with gpuarray:\")\n",
        "print(h_result)\n",
        "secs = start.time_till(end)*1e-3\n",
        "print(\"Time of Squaring on GPU with gpuarray\")\n",
        "print(\"%fs\" % (secs))"
      ],
      "execution_count": null,
      "outputs": []
    },
    {
      "cell_type": "markdown",
      "metadata": {
        "id": "XXNoTkETR-_c"
      },
      "source": [
        "It completely removes the need to define kernel functions in C language, and its functionality is similar to the numpy library so Python programmers can easily work with it.\n",
        "\n",
        "To summarize the task, we have developed an element-wise squaring program using the gpuarray class in PyCUDA. "
      ]
    }
  ]
}