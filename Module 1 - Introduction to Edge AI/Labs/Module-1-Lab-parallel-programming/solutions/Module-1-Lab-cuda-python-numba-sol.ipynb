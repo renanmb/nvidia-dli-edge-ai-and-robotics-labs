{
  "nbformat": 4,
  "nbformat_minor": 0,
  "metadata": {
    "colab": {
      "name": "Solution-Module-1-Lab-cuda-python-numba.ipynb",
      "provenance": [],
      "collapsed_sections": [
        "eyV6eVAhwLeh",
        "sqsWOEs0l-Qy",
        "14JUdPF4pMAl",
        "pvgIHD0JpdkL",
        "uJplEMR-mOuT"
      ]
    },
    "kernelspec": {
      "name": "python3",
      "display_name": "Python 3"
    },
    "language_info": {
      "name": "python"
    },
    "accelerator": "GPU"
  },
  "cells": [
    {
      "cell_type": "markdown",
      "metadata": {
        "id": "eyV6eVAhwLeh"
      },
      "source": [
        "# **Exercise: Numba Basics**\n",
        "\n",
        "The function below is a naive sum function that sums all the elements of a given array. Let’s get a numba version of this code running."
      ]
    },
    {
      "cell_type": "code",
      "metadata": {
        "id": "RICP6h8YT_HS"
      },
      "source": [
        "import numpy\n",
        "numpy.random.seed(1)"
      ],
      "execution_count": null,
      "outputs": []
    },
    {
      "cell_type": "code",
      "metadata": {
        "id": "0iBi0J6KL-Og"
      },
      "source": [
        "#Array summation\n",
        "def summation_array(input):\n",
        "    J, I = input.shape\n",
        "    sum = 0\n",
        "    for j in range(J):\n",
        "        for i in range(I):\n",
        "            sum += input[j, i]   \n",
        "    return sum"
      ],
      "execution_count": null,
      "outputs": []
    },
    {
      "cell_type": "code",
      "metadata": {
        "id": "KsYZtyPdUOOj"
      },
      "source": [
        "array = numpy.random.random((300, 300))"
      ],
      "execution_count": null,
      "outputs": []
    },
    {
      "cell_type": "code",
      "metadata": {
        "id": "gUhk5dBdUQEF"
      },
      "source": [
        "summation_array(array)"
      ],
      "execution_count": null,
      "outputs": []
    },
    {
      "cell_type": "markdown",
      "metadata": {
        "id": "UeJlGUkKUank"
      },
      "source": [
        "Let's get started to write numba version."
      ]
    },
    {
      "cell_type": "markdown",
      "metadata": {
        "id": "2MgExL7KApOC"
      },
      "source": [
        "##### **As a function call**\n"
      ]
    },
    {
      "cell_type": "code",
      "metadata": {
        "id": "Nt5ttiu9-P-b"
      },
      "source": [
        "from numba import jit"
      ],
      "execution_count": null,
      "outputs": []
    },
    {
      "cell_type": "code",
      "metadata": {
        "id": "ogc5nFcTWYVu"
      },
      "source": [
        "summation_array_numba = jit()(summation_array)"
      ],
      "execution_count": null,
      "outputs": []
    },
    {
      "cell_type": "code",
      "metadata": {
        "id": "j4cyUKTrWYYw"
      },
      "source": [
        "summation_array_numba(array)"
      ],
      "execution_count": null,
      "outputs": []
    },
    {
      "cell_type": "markdown",
      "metadata": {
        "id": "ub1SSn-OAvOb"
      },
      "source": [
        "##### **As a decorater (more commonly)**"
      ]
    },
    {
      "cell_type": "code",
      "metadata": {
        "id": "GTBjAcPDA0Gg"
      },
      "source": [
        "@jit\n",
        "def summation_array_numba_dec(inp):\n",
        "    I, J = inp.shape\n",
        "    mysum = 0\n",
        "    for i in range(I):\n",
        "        for j in range(J):\n",
        "            mysum += inp[i, j]\n",
        "    return mysum"
      ],
      "execution_count": null,
      "outputs": []
    },
    {
      "cell_type": "code",
      "metadata": {
        "id": "-BYWJOp7Xm3r"
      },
      "source": [
        "summation_array_numba_dec(array)"
      ],
      "execution_count": null,
      "outputs": []
    },
    {
      "cell_type": "markdown",
      "metadata": {
        "id": "K15Vv3vpGQpl"
      },
      "source": [
        "##### **Benchmarking**\n",
        "\n",
        "Compare NumPy and Numba using %timeit"
      ]
    },
    {
      "cell_type": "code",
      "metadata": {
        "id": "H-lX0ppuU4sn"
      },
      "source": [
        "time_numpy = %timeit -o summation_array(array)"
      ],
      "execution_count": null,
      "outputs": []
    },
    {
      "cell_type": "code",
      "metadata": {
        "id": "Ty1N4ZIsWYbV"
      },
      "source": [
        "time_jitted = %timeit -o summation_array_numba(array)"
      ],
      "execution_count": null,
      "outputs": []
    },
    {
      "cell_type": "code",
      "metadata": {
        "id": "6Ku3oS2GWYif"
      },
      "source": [
        "time_numpy.best / time_jitted.best"
      ],
      "execution_count": null,
      "outputs": []
    },
    {
      "cell_type": "code",
      "metadata": {
        "id": "LyuHVepGXu30"
      },
      "source": [
        "time_dec = %timeit -o summation_array_numba_dec(array)"
      ],
      "execution_count": null,
      "outputs": []
    },
    {
      "cell_type": "markdown",
      "metadata": {
        "id": "e0IKtbZyGCjS"
      },
      "source": [
        "##### **Question: When does Numba compile codes?**\n",
        "\n",
        "The first time you call the function."
      ]
    },
    {
      "cell_type": "markdown",
      "metadata": {
        "id": "sqsWOEs0l-Qy"
      },
      "source": [
        "# **Exercise: Writing CUDA kernels**\n",
        "\n",
        "We’ll work an example function that determines if a point is in the mandelbrot set or not. Below statement is a pure Python implementation of a function. "
      ]
    },
    {
      "cell_type": "markdown",
      "metadata": {
        "id": "14JUdPF4pMAl"
      },
      "source": [
        "## **Python Implemtation**"
      ]
    },
    {
      "cell_type": "code",
      "metadata": {
        "id": "A4GYw-NEl-Q1"
      },
      "source": [
        "from __future__ import print_function, division, absolute_import\n",
        "\n",
        "from timeit import default_timer as timer\n",
        "from matplotlib.pylab import imshow, show\n",
        "import numpy as np\n",
        "\n",
        "\n",
        "def mandelbrot(x, y, max_iters):\n",
        "    \"\"\"\n",
        "    Given the real and imaginary parts of a complex number,\n",
        "    determine if it is a candidate for membership in the Mandelbrot\n",
        "    set given a fixed number of iterations.\n",
        "    \"\"\"\n",
        "    i = 0\n",
        "    c = complex(x, y)\n",
        "    z = 0.0j\n",
        "    for i in range(max_iters):\n",
        "        z = z * z + c\n",
        "        if (z.real * z.real + z.imag * z.imag) >= 4:\n",
        "            return i\n",
        "\n",
        "    return 255\n",
        "\n",
        "# The image loop\n",
        "# This is the calling function. \n",
        "# It takes a 2D array called image, and calls the mandelbrot function for every pixel in that image.\n",
        "\n",
        "def create_fractal(min_x, max_x, min_y, max_y, image, iters):\n",
        "    height = image.shape[0]\n",
        "    width = image.shape[1]\n",
        "\n",
        "    pixel_size_x = (max_x - min_x) / width\n",
        "    pixel_size_y = (max_y - min_y) / height\n",
        "    for x in range(width):\n",
        "        real = min_x + x * pixel_size_x\n",
        "        for y in range(height):\n",
        "            imag = min_y + y * pixel_size_y\n",
        "            color = mandelbrot(real, imag, iters)\n",
        "            image[y, x] = color\n",
        "\n",
        "\n",
        "image = np.zeros((500 * 10, 750 * 10), dtype=np.uint8)\n",
        "\n",
        "s = timer()\n",
        "create_fractal(-2.0, 1.0, -1.0, 1.0, image, 20)\n",
        "e = timer()\n",
        "\n",
        "print(\"Execution time: %f seconds\" % (e - s))\n",
        "\n",
        "imshow(image)\n",
        "show()"
      ],
      "execution_count": null,
      "outputs": []
    },
    {
      "cell_type": "markdown",
      "metadata": {
        "id": "pvgIHD0JpdkL"
      },
      "source": [
        "## **Task**\n",
        "\n",
        "Modify the example by compiling:\n",
        "- @jit decorator, to run as native code on the CPU\n",
        "- @cuda.jit decorator, to run on the GPU\n",
        "\n",
        "**Note:**  CUDA kernels are compiled using the numba.cuda.jit decorator (not to be confused with the numba.jit decorator for the CPU)"
      ]
    },
    {
      "cell_type": "markdown",
      "metadata": {
        "id": "uJplEMR-mOuT"
      },
      "source": [
        "### **Mandel JIT Implementation**"
      ]
    },
    {
      "cell_type": "markdown",
      "metadata": {
        "id": "2oxhjtfhmCMR"
      },
      "source": [
        "If we want to use Numba to compile this function for the CPU, then we do two things: first, we\n",
        "import the jit decorator from Numba, then we “decorate” the function with it."
      ]
    },
    {
      "cell_type": "code",
      "metadata": {
        "id": "DmgrHeVNmKwT"
      },
      "source": [
        "from __future__ import print_function, division, absolute_import\n",
        "\n",
        "from timeit import default_timer as timer\n",
        "from matplotlib.pylab import imshow, show\n",
        "import numpy as np\n",
        "\n",
        "from numba import jit\n",
        "\n",
        "# Turning Pure python code into compiled native code\n",
        "@jit\n",
        "def mandel(x, y, max_iters):\n",
        "    \"\"\"\n",
        "    Given the real and imaginary parts of a complex number,\n",
        "    determine if it is a candidate for membership in the Mandelbrot\n",
        "    set given a fixed number of iterations.\n",
        "    \"\"\"\n",
        "    i = 0\n",
        "    c = complex(x, y)\n",
        "    z = 0.0j\n",
        "    for i in range(max_iters):\n",
        "        z = z * z + c\n",
        "        if (z.real * z.real + z.imag * z.imag) >= 4:\n",
        "            return i\n",
        "\n",
        "    return 255\n",
        "\n",
        "# Compile the outer function for the CPU\n",
        "# Compiled, jitted function can call another one.\n",
        "@jit\n",
        "def create_fractal(min_x, max_x, min_y, max_y, image, iters):\n",
        "    height = image.shape[0]\n",
        "    width = image.shape[1]\n",
        "\n",
        "    pixel_size_x = (max_x - min_x) / width\n",
        "    pixel_size_y = (max_y - min_y) / height\n",
        "    for x in range(width):\n",
        "        real = min_x + x * pixel_size_x\n",
        "        for y in range(height):\n",
        "            imag = min_y + y * pixel_size_y\n",
        "            color = mandel(real, imag, iters)\n",
        "            image[y, x] = color\n",
        "\n",
        "    return image\n",
        "\n",
        "\n",
        "image = np.zeros((500 * 10, 750 * 10), dtype=np.uint8)\n",
        "\n",
        "s = timer()\n",
        "create_fractal(-2.0, 1.0, -1.0, 1.0, image, 20)\n",
        "e = timer()\n",
        "print(\"Execution time: %f seconds\" % (e - s))\n",
        "\n",
        "imshow(image)\n",
        "show()"
      ],
      "execution_count": null,
      "outputs": []
    },
    {
      "cell_type": "markdown",
      "metadata": {
        "id": "KImwbRHSmCOX"
      },
      "source": [
        "**Mandel CUDA JIT Implementation**\n",
        "\n",
        "We use the cuda.jit decorator to compile a function and to run on a GPU. We will also pass the **device=True** keyword argument.\n",
        "\n",
        "The original code contained two for loops: one over the width of the image and one over the height.\n",
        "\n",
        "To parallelise those loops across threads, the loop structure is flattened so that each pixel is assigned to one thread.\n",
        "\n",
        "Numba provides a convenience function called grid, which we’re using here. You call it with the number of dimensions of the grid, and it returns N linear indices. You can think of this as a shorthand for computations with the block dimensions and index, and the thread index.\n",
        "\n",
        "The grid can often be a little bigger than the image, so we add a guard to make sure that only threads within the image bounds do the computation.\n",
        "\n",
        "Those are all the changes made to make this into a global kernel function. Conceptually they’re very similar to CUDA C, and only the language is a little bit different."
      ]
    },
    {
      "cell_type": "code",
      "metadata": {
        "id": "3qK3KXwytcfb"
      },
      "source": [
        "from __future__ import print_function, division, absolute_import\n",
        "\n",
        "from timeit import default_timer as timer\n",
        "from matplotlib.pylab import imshow, show\n",
        "import numpy as np\n",
        "\n",
        "from numba import cuda\n",
        "\n",
        "\n",
        "@cuda.jit(device=True)\n",
        "def mandel(x, y, max_iters):\n",
        "    \"\"\"\n",
        "    Given the real and imaginary parts of a complex number,\n",
        "    determine if it is a candidate for membership in the Mandelbrot\n",
        "    set given a fixed number of iterations.\n",
        "    \"\"\"\n",
        "    i = 0\n",
        "    c = complex(x, y)\n",
        "    z = 0.0j\n",
        "    for i in range(max_iters):\n",
        "        z = z * z + c\n",
        "        if (z.real * z.real + z.imag * z.imag) >= 4:\n",
        "            return i\n",
        "\n",
        "    return 255\n",
        "\n",
        "\n",
        "@cuda.jit\n",
        "def create_fractal(min_x, max_x, min_y, max_y, image, iters):\n",
        "    height = image.shape[0]\n",
        "    width = image.shape[1]\n",
        "\n",
        "    pixel_size_x = (max_x - min_x) / width\n",
        "    pixel_size_y = (max_y - min_y) / height\n",
        "\n",
        "    x, y = cuda.grid(2)\n",
        "\n",
        "    if x < width and y < height:\n",
        "        real = min_x + x * pixel_size_x\n",
        "        imag = min_y + y * pixel_size_y\n",
        "        color = mandel(real, imag, iters)\n",
        "        image[y, x] = color\n",
        "\n",
        "# we create a grid of 32x32 blocks that’s just big enough to contain the image, and launch with\n",
        "that configuration.\n",
        "width = 15000\n",
        "height = 10000\n",
        "image = np.zeros((height, width), dtype=np.uint8)\n",
        "\n",
        "pixels = width * height\n",
        "nthreads = 32\n",
        "nblocksy = (height // nthreads) + 1\n",
        "nblocksx = (width // nthreads) + 1\n",
        "s = timer()\n",
        "\n",
        "create_fractal[(nblocksx, nblocksy), (nthreads, nthreads)](-2.0, 1.0, -1.0, 1.0, image, 20)\n",
        "\n",
        "e = timer()\n",
        "print(\"Execution time: %f seconds\" % (e - s))\n",
        "\n",
        "imshow(image)\n",
        "show()"
      ],
      "execution_count": null,
      "outputs": []
    },
    {
      "cell_type": "markdown",
      "metadata": {
        "id": "zmF1tZ4WoazT"
      },
      "source": [
        "**What's next?**\n",
        "\n",
        "Can you also rewrite the mandel function using @vectorize for the CUDA target?"
      ]
    },
    {
      "cell_type": "markdown",
      "metadata": {
        "id": "uvrM3TYMo0MT"
      },
      "source": [
        "**Mandel Vectorize Implementation**"
      ]
    },
    {
      "cell_type": "code",
      "metadata": {
        "id": "_HiUbZDtoy2q"
      },
      "source": [
        "from __future__ import print_function, division, absolute_import\n",
        "\n",
        "\n",
        "from timeit import default_timer as timer\n",
        "\n",
        "from matplotlib.pylab import imshow, show\n",
        "\n",
        "from numba import vectorize\n",
        "import numpy as np\n",
        "\n",
        "sig = \"uint8(uint32, f4, f4, f4, f4, uint32, uint32, uint32)\"\n",
        "\n",
        "\n",
        "@vectorize([sig], target=\"cuda\")\n",
        "def mandel(tid, min_x, max_x, min_y, max_y, width, height, iters):\n",
        "    pixel_size_x = (max_x - min_x) / width\n",
        "    pixel_size_y = (max_y - min_y) / height\n",
        "\n",
        "    x = tid % width\n",
        "    y = tid / width\n",
        "\n",
        "    real = min_x + x * pixel_size_x\n",
        "    imag = min_y + y * pixel_size_y\n",
        "\n",
        "    c = complex(real, imag)\n",
        "    z = 0.0j\n",
        "\n",
        "    for i in range(iters):\n",
        "        z = z * z + c\n",
        "        if (z.real * z.real + z.imag * z.imag) >= 4:\n",
        "            return i\n",
        "    return 255\n",
        "\n",
        "\n",
        "def create_fractal(min_x, max_x, min_y, max_y, width, height, iters):\n",
        "    tids = np.arange(width * height, dtype=np.uint32)\n",
        "    return mandel(\n",
        "        tids,\n",
        "        np.float32(min_x),\n",
        "        np.float32(max_x),\n",
        "        np.float32(min_y),\n",
        "        np.float32(max_y),\n",
        "        np.uint32(height),\n",
        "        np.uint32(width),\n",
        "        np.uint32(iters),\n",
        "    )\n",
        "\n",
        "\n",
        "def main():\n",
        "    width = 500 * 10\n",
        "    height = 750 * 10\n",
        "\n",
        "    ts = timer()\n",
        "    pixels = create_fractal(-2.0, 1.0, -1.0, 1.0, width, height, 20)\n",
        "    te = timer()\n",
        "    print(\"Execution time: %f\" % (te - ts))\n",
        "\n",
        "    image = pixels.reshape(width, height)\n",
        "    imshow(image)\n",
        "    show()\n",
        "\n",
        "\n",
        "if __name__ == \"__main__\":\n",
        "    main()"
      ],
      "execution_count": null,
      "outputs": []
    },
    {
      "cell_type": "code",
      "metadata": {
        "id": "6sMeCIfQqkz7"
      },
      "source": [
        ""
      ],
      "execution_count": null,
      "outputs": []
    }
  ]
}